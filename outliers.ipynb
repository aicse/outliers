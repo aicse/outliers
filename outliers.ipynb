{
 "cells": [
  {
   "cell_type": "code",
   "execution_count": 43,
   "id": "14744e06-fa08-48eb-a958-0a7d35b783c7",
   "metadata": {},
   "outputs": [],
   "source": [
    "import pandas as pd\n",
    "import numpy as np\n"
   ]
  },
  {
   "cell_type": "code",
   "execution_count": 45,
   "id": "77a50288-cb7d-4819-9ed1-5a1faa3dccf8",
   "metadata": {},
   "outputs": [],
   "source": [
    "dataset =[ 0, 1, 2, 3, 4, 5, 6, 7, 8, 9, 10, 11, 12, 13, 14, 15, 16, 17, 18, 19, 20, 21, 22, 23, 24, 25,26, 27, 28, 29, 30, 31, 32, 33, 34, 35, 36, 37, 38, 39, 40, 41, 42, 43, 44, 45, 46, 47, 48, 49, 50, 51, 52, 53, 54, 55, 56, 57, 58, 59,111, 60, 61, 62, 63, 64, 65, 66, 67, 68, 69, 70, 71, 72, 73, 74, 75, 76, 100,239,]"
   ]
  },
  {
   "cell_type": "markdown",
   "id": "7f9fd477-3c9b-462e-824f-9e3beb7e1757",
   "metadata": {},
   "source": [
    "Using z score for detecting outlier"
   ]
  },
  {
   "cell_type": "markdown",
   "id": "9c6eff63-750f-49e6-b274-19de60adcdd9",
   "metadata": {},
   "source": [
    "Z Score formula"
   ]
  },
  {
   "cell_type": "markdown",
   "id": "c9cc1d71-f1bf-4537-a39b-566412b3b5ae",
   "metadata": {},
   "source": [
    "z =(X-μ)/σ"
   ]
  },
  {
   "cell_type": "code",
   "execution_count": 46,
   "id": "fe1c2f71-2efc-40d9-ae9e-b3599e541700",
   "metadata": {},
   "outputs": [],
   "source": [
    "outliers=[]\n",
    "def detect_outliers(data):\n",
    "    threshold = 5\n",
    "    mean =np.mean(data)\n",
    "    std = np.std(data)\n",
    "    \n",
    "    for X in data:\n",
    "        z_score=(X - mean)/std\n",
    "        if np.abs(z_score)>threshold :\n",
    "            outliers.append(X)\n",
    "    return outliers"
   ]
  },
  {
   "cell_type": "code",
   "execution_count": 47,
   "id": "a01be288-09c7-40fd-9f21-4f0c2c3232d9",
   "metadata": {},
   "outputs": [],
   "source": [
    "outlier1=detect_outliers(dataset)"
   ]
  },
  {
   "cell_type": "code",
   "execution_count": 48,
   "id": "904b8602-38f3-4b4a-8df7-b88b9a3d4627",
   "metadata": {},
   "outputs": [
    {
     "data": {
      "text/plain": [
       "[239]"
      ]
     },
     "execution_count": 48,
     "metadata": {},
     "output_type": "execute_result"
    }
   ],
   "source": [
    "outlier1"
   ]
  },
  {
   "cell_type": "markdown",
   "id": "04ffa9ed-1bea-4513-aaf6-f36b38125742",
   "metadata": {},
   "source": [
    "i'm using another method is IQR "
   ]
  },
  {
   "cell_type": "code",
   "execution_count": 49,
   "id": "d5e64eed-2bca-42c9-a32f-0fdc2685016d",
   "metadata": {},
   "outputs": [
    {
     "data": {
      "text/plain": [
       "[0,\n",
       " 1,\n",
       " 2,\n",
       " 3,\n",
       " 4,\n",
       " 5,\n",
       " 6,\n",
       " 7,\n",
       " 8,\n",
       " 9,\n",
       " 10,\n",
       " 11,\n",
       " 12,\n",
       " 13,\n",
       " 14,\n",
       " 15,\n",
       " 16,\n",
       " 17,\n",
       " 18,\n",
       " 19,\n",
       " 20,\n",
       " 21,\n",
       " 22,\n",
       " 23,\n",
       " 24,\n",
       " 25,\n",
       " 26,\n",
       " 27,\n",
       " 28,\n",
       " 29,\n",
       " 30,\n",
       " 31,\n",
       " 32,\n",
       " 33,\n",
       " 34,\n",
       " 35,\n",
       " 36,\n",
       " 37,\n",
       " 38,\n",
       " 39,\n",
       " 40,\n",
       " 41,\n",
       " 42,\n",
       " 43,\n",
       " 44,\n",
       " 45,\n",
       " 46,\n",
       " 47,\n",
       " 48,\n",
       " 49,\n",
       " 50,\n",
       " 51,\n",
       " 52,\n",
       " 53,\n",
       " 54,\n",
       " 55,\n",
       " 56,\n",
       " 57,\n",
       " 58,\n",
       " 59,\n",
       " 60,\n",
       " 61,\n",
       " 62,\n",
       " 63,\n",
       " 64,\n",
       " 65,\n",
       " 66,\n",
       " 67,\n",
       " 68,\n",
       " 69,\n",
       " 70,\n",
       " 71,\n",
       " 72,\n",
       " 73,\n",
       " 74,\n",
       " 75,\n",
       " 76,\n",
       " 100,\n",
       " 111,\n",
       " 239]"
      ]
     },
     "execution_count": 49,
     "metadata": {},
     "output_type": "execute_result"
    }
   ],
   "source": [
    "sorted(dataset)"
   ]
  },
  {
   "cell_type": "code",
   "execution_count": 50,
   "id": "5604f892-9117-4cb7-b3a5-368e9bd463ea",
   "metadata": {},
   "outputs": [],
   "source": [
    "quantile1 ,quantile3 =np.percentile(dataset,[25,75])"
   ]
  },
  {
   "cell_type": "code",
   "execution_count": 55,
   "id": "3167ade3-0b6d-41df-8ac0-1edb68e9e77b",
   "metadata": {},
   "outputs": [
    {
     "name": "stdout",
     "output_type": "stream",
     "text": [
      "19.75 59.25\n"
     ]
    }
   ],
   "source": [
    "print(quantile1,quantile3)"
   ]
  },
  {
   "cell_type": "code",
   "execution_count": 53,
   "id": "dc9738f5-9954-4e77-8d26-023d511f51dc",
   "metadata": {},
   "outputs": [],
   "source": [
    "IQR =quantile3-quantile1"
   ]
  },
  {
   "cell_type": "code",
   "execution_count": 54,
   "id": "44b45273-6d69-459f-b3b9-36a4fd3820ca",
   "metadata": {},
   "outputs": [
    {
     "data": {
      "text/plain": [
       "39.5"
      ]
     },
     "execution_count": 54,
     "metadata": {},
     "output_type": "execute_result"
    }
   ],
   "source": [
    "IQR"
   ]
  },
  {
   "cell_type": "code",
   "execution_count": 56,
   "id": "28850ee6-26ef-41f7-bd82-b04ace9f0f56",
   "metadata": {},
   "outputs": [],
   "source": [
    "lower_bound = quantile1 -(1.5 * IQR)"
   ]
  },
  {
   "cell_type": "code",
   "execution_count": 59,
   "id": "f788d5b8-5a13-428f-bed1-36b16a0a2810",
   "metadata": {},
   "outputs": [],
   "source": [
    "upper_bound = quantile3 +(1.5 * IQR)"
   ]
  },
  {
   "cell_type": "code",
   "execution_count": 60,
   "id": "a241305e-e7e7-494d-bd60-26c898afb48f",
   "metadata": {},
   "outputs": [
    {
     "name": "stdout",
     "output_type": "stream",
     "text": [
      "-39.5 118.5\n"
     ]
    }
   ],
   "source": [
    "print(lower_bound,upper_bound)"
   ]
  },
  {
   "cell_type": "code",
   "execution_count": null,
   "id": "64f28132-9252-436e-8846-a2116ca40853",
   "metadata": {},
   "outputs": [],
   "source": []
  }
 ],
 "metadata": {
  "kernelspec": {
   "display_name": "Python 3 (ipykernel)",
   "language": "python",
   "name": "python3"
  },
  "language_info": {
   "codemirror_mode": {
    "name": "ipython",
    "version": 3
   },
   "file_extension": ".py",
   "mimetype": "text/x-python",
   "name": "python",
   "nbconvert_exporter": "python",
   "pygments_lexer": "ipython3",
   "version": "3.9.13"
  }
 },
 "nbformat": 4,
 "nbformat_minor": 5
}
